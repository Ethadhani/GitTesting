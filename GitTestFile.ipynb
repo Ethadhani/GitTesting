{
 "cells": [
  {
   "cell_type": "code",
   "execution_count": 3,
   "id": "73a05226-3b6b-4382-af5b-b1ded986fe32",
   "metadata": {},
   "outputs": [],
   "source": [
    "import numpy as np\n",
    "import matplotlib.pyplot as plt"
   ]
  },
  {
   "cell_type": "code",
   "execution_count": 4,
   "id": "8ee997f2-fbad-4492-b390-11273be8a197",
   "metadata": {},
   "outputs": [
    {
     "name": "stdout",
     "output_type": "stream",
     "text": [
      "this test worked\n"
     ]
    }
   ],
   "source": [
    "print(\"this test worked\")"
   ]
  },
  {
   "cell_type": "code",
   "execution_count": 5,
   "id": "354bfb1c-dd61-4771-9157-adc4d86431b6",
   "metadata": {},
   "outputs": [],
   "source": [
    "xset = np.linspace(0,1000,999)"
   ]
  },
  {
   "cell_type": "code",
   "execution_count": null,
   "id": "3b81cdbb-616b-4264-9cfb-0e20559aea83",
   "metadata": {},
   "outputs": [],
   "source": [
    "plt.plot(xset,xset)"
   ]
  }
 ],
 "metadata": {
  "kernelspec": {
   "display_name": "Python 3 (ipykernel)",
   "language": "python",
   "name": "python3"
  },
  "language_info": {
   "codemirror_mode": {
    "name": "ipython",
    "version": 3
   },
   "file_extension": ".py",
   "mimetype": "text/x-python",
   "name": "python",
   "nbconvert_exporter": "python",
   "pygments_lexer": "ipython3",
   "version": "3.12.1"
  }
 },
 "nbformat": 4,
 "nbformat_minor": 5
}
